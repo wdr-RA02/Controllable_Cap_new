{
 "cells": [
  {
   "cell_type": "code",
   "execution_count": null,
   "metadata": {},
   "outputs": [],
   "source": [
    "import json\n",
    "import os.path as osp\n",
    "\n",
    "with open(\"./conf/caption_pcap_224.json\") as f:\n",
    "    config=json.load(f)\n",
    "\n",
    "pt=osp.join(config[\"work_dir\"], \"outputs\")"
   ]
  },
  {
   "cell_type": "code",
   "execution_count": null,
   "metadata": {},
   "outputs": [],
   "source": [
    "import evaluate_model\n",
    "evaluate_model.tqdm_module(True)\n",
    "from finetune_pfx_dec import load_model as load_finetune_model\n",
    "\n",
    "model, processor, load_info=load_finetune_model(config, pt, device)"
   ]
  },
  {
   "cell_type": "code",
   "execution_count": null,
   "metadata": {},
   "outputs": [
    {
     "data": {
      "text/plain": [
       "{'ViT_prefix': False, 'Text_dec_prefix': True}"
      ]
     },
     "metadata": {},
     "output_type": "display_data"
    }
   ],
   "source": [
    "model.get_pfx_status()"
   ]
  },
  {
   "cell_type": "code",
   "execution_count": null,
   "metadata": {},
   "outputs": [
    {
     "data": {
      "text/plain": [
       "{'missing_keys': [],\n",
       " 'unexpected_keys': [],\n",
       " 'mismatched_keys': [],\n",
       " 'error_msgs': []}"
      ]
     },
     "metadata": {},
     "output_type": "display_data"
    }
   ],
   "source": [
    "load_info"
   ]
  },
  {
   "cell_type": "code",
   "execution_count": null,
   "metadata": {},
   "outputs": [],
   "source": [
    "def img_hash_to_addr(x, img_addr, img_attr):\n",
    "    x[\"images\"]=osp.join(img_addr, x.pop(\"image_hash\")+img_attr)\n",
    "\n",
    "    return x\n",
    "\n",
    "img_addr=config[\"dataset\"][\"img_path\"]\n",
    "img_attr=config[\"dataset\"][\"img_attr\"]\n",
    "\n",
    "with open(\"./misc/inference_src.json\") as f:\n",
    "    inference_list=json.load(f)\n",
    "\n",
    "inference_list=[img_hash_to_addr(x, img_addr, img_attr) for x in inference_list]"
   ]
  },
  {
   "cell_type": "code",
   "execution_count": null,
   "metadata": {},
   "outputs": [],
   "source": [
    "# load ckpt\n",
    "inference_ckpt=osp.join(config[\"work_dir\"], \"last.pth\")\n",
    "state_dict=torch.load(inference_ckpt)\n",
    "missing_keys, unexp_keys=model.load_state_dict(state_dict, strict=False)"
   ]
  },
  {
   "cell_type": "code",
   "execution_count": null,
   "metadata": {},
   "outputs": [
    {
     "data": {
      "text/plain": [
       "([], [])"
      ]
     },
     "metadata": {},
     "output_type": "display_data"
    }
   ],
   "source": [
    "missing_keys, unexp_keys"
   ]
  },
  {
   "cell_type": "code",
   "execution_count": null,
   "metadata": {},
   "outputs": [
    {
     "data": {
      "text/plain": [
       "{'ViT_prefix': False, 'Text_dec_prefix': True}"
      ]
     },
     "metadata": {},
     "output_type": "display_data"
    }
   ],
   "source": [
    "model.get_pfx_status()"
   ]
  },
  {
   "cell_type": "code",
   "execution_count": null,
   "metadata": {},
   "outputs": [
    {
     "name": "stdout",
     "output_type": "stream",
     "text": [
      "------Inference start-------\n",
      "------Inference end-------\n"
     ]
    }
   ],
   "source": [
    "inf_r=evaluate_model.inference(model, config, processor, device, inference_list)"
   ]
  },
  {
   "cell_type": "code",
   "execution_count": null,
   "metadata": {},
   "outputs": [],
   "source": [
    "inf_r"
   ]
  }
 ],
 "metadata": {
  "language_info": {
   "name": "python"
  },
  "orig_nbformat": 4
 },
 "nbformat": 4,
 "nbformat_minor": 2
}
